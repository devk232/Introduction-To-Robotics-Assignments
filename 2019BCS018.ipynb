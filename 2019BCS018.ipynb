{
  "nbformat": 4,
  "nbformat_minor": 0,
  "metadata": {
    "colab": {
      "name": "Robot_Manipulator_Yash.ipynb",
      "provenance": [],
      "collapsed_sections": [],
      "include_colab_link": true
    },
    "kernelspec": {
      "name": "python3",
      "display_name": "Python 3"
    }
  },
  "cells": [
    {
      "cell_type": "markdown",
      "metadata": {
        "id": "view-in-github",
        "colab_type": "text"
      },
      "source": [
        "<a href=\"https://colab.research.google.com/github/devk232/Introduction-To-Robotics-Assignments/blob/main/2019BCS018.ipynb\" target=\"_parent\"><img src=\"https://colab.research.google.com/assets/colab-badge.svg\" alt=\"Open In Colab\"/></a>"
      ]
    },
    {
      "cell_type": "code",
      "metadata": {
        "id": "-wmohz6ymdp2"
      },
      "source": [
        "import pandas as pd\n",
        "import math\n",
        "import random\n",
        "import matplotlib.pyplot as plt\n",
        "from sklearn.model_selection import train_test_split\n",
        "from keras import models\n",
        "from keras import layers\n",
        "from keras import regularizers\n",
        "import numpy as np\n",
        "\n",
        "\n",
        "l1 = l2 = l3 = 7 # length of manipulators\n"
      ],
      "execution_count": 5,
      "outputs": []
    },
    {
      "cell_type": "code",
      "metadata": {
        "id": "DbflvrjYr2Y3"
      },
      "source": [
        "## Generating dataset for training\n",
        "\n",
        "def three_link_manipulator_dataset():\n",
        "    rows = []\n",
        "    for i in range(1, 100000):\n",
        "        theta1 = round(random.uniform(0, math.pi), 2)\n",
        "        theta2 = round(random.uniform(-math.pi, 0), 2)\n",
        "        theta3 = round(random.uniform(-math.pi/2, math.pi/2), 2)\n",
        "        \n",
        "        x = round(l1*math.cos(theta1)+l2*math.cos(theta1+theta2)+l3*math.cos(theta1+theta2+theta3), 2)\n",
        "        y = round(l1*math.sin(theta1)+l2*math.sin(theta1+theta2)+l3*math.sin(theta1+theta2+theta3), 2)\n",
        "        phi = round(math.degrees(theta1)+math.degrees(theta2)+math.degrees(theta3), 2)\n",
        "        \n",
        "        rows.append([theta1, theta2, theta3, x, y, phi])\n",
        "\n",
        "    df = pd.DataFrame(rows, columns=['theta1', 'theta2', 'theta3', 'x', 'y', 'phi'])\n",
        "    df.to_csv('three_link.csv', index=False)\n",
        "    \n",
        "three_link_manipulator_dataset()\n"
      ],
      "execution_count": 6,
      "outputs": []
    },
    {
      "cell_type": "code",
      "metadata": {
        "id": "x8umT7E2nIIA",
        "colab": {
          "base_uri": "https://localhost:8080/",
          "height": 195
        },
        "outputId": "b7544b5c-1547-489d-bc1b-46ab9004acc5"
      },
      "source": [
        "three_link_data = pd.read_csv('three_link.csv')\n",
        "three_link_data.head()"
      ],
      "execution_count": 7,
      "outputs": [
        {
          "output_type": "execute_result",
          "data": {
            "text/html": [
              "<div>\n",
              "<style scoped>\n",
              "    .dataframe tbody tr th:only-of-type {\n",
              "        vertical-align: middle;\n",
              "    }\n",
              "\n",
              "    .dataframe tbody tr th {\n",
              "        vertical-align: top;\n",
              "    }\n",
              "\n",
              "    .dataframe thead th {\n",
              "        text-align: right;\n",
              "    }\n",
              "</style>\n",
              "<table border=\"1\" class=\"dataframe\">\n",
              "  <thead>\n",
              "    <tr style=\"text-align: right;\">\n",
              "      <th></th>\n",
              "      <th>theta1</th>\n",
              "      <th>theta2</th>\n",
              "      <th>theta3</th>\n",
              "      <th>x</th>\n",
              "      <th>y</th>\n",
              "      <th>phi</th>\n",
              "    </tr>\n",
              "  </thead>\n",
              "  <tbody>\n",
              "    <tr>\n",
              "      <th>0</th>\n",
              "      <td>0.33</td>\n",
              "      <td>-1.30</td>\n",
              "      <td>1.55</td>\n",
              "      <td>16.43</td>\n",
              "      <td>0.33</td>\n",
              "      <td>33.23</td>\n",
              "    </tr>\n",
              "    <tr>\n",
              "      <th>1</th>\n",
              "      <td>2.38</td>\n",
              "      <td>-1.02</td>\n",
              "      <td>1.27</td>\n",
              "      <td>-9.71</td>\n",
              "      <td>15.10</td>\n",
              "      <td>150.69</td>\n",
              "    </tr>\n",
              "    <tr>\n",
              "      <th>2</th>\n",
              "      <td>1.96</td>\n",
              "      <td>-1.42</td>\n",
              "      <td>1.11</td>\n",
              "      <td>2.79</td>\n",
              "      <td>17.05</td>\n",
              "      <td>94.54</td>\n",
              "    </tr>\n",
              "    <tr>\n",
              "      <th>3</th>\n",
              "      <td>0.61</td>\n",
              "      <td>-2.47</td>\n",
              "      <td>-1.09</td>\n",
              "      <td>-3.13</td>\n",
              "      <td>-4.03</td>\n",
              "      <td>-169.02</td>\n",
              "    </tr>\n",
              "    <tr>\n",
              "      <th>4</th>\n",
              "      <td>0.96</td>\n",
              "      <td>-1.43</td>\n",
              "      <td>0.83</td>\n",
              "      <td>16.81</td>\n",
              "      <td>5.03</td>\n",
              "      <td>20.63</td>\n",
              "    </tr>\n",
              "  </tbody>\n",
              "</table>\n",
              "</div>"
            ],
            "text/plain": [
              "   theta1  theta2  theta3      x      y     phi\n",
              "0    0.33   -1.30    1.55  16.43   0.33   33.23\n",
              "1    2.38   -1.02    1.27  -9.71  15.10  150.69\n",
              "2    1.96   -1.42    1.11   2.79  17.05   94.54\n",
              "3    0.61   -2.47   -1.09  -3.13  -4.03 -169.02\n",
              "4    0.96   -1.43    0.83  16.81   5.03   20.63"
            ]
          },
          "metadata": {
            "tags": []
          },
          "execution_count": 7
        }
      ]
    },
    {
      "cell_type": "code",
      "metadata": {
        "id": "hS7lOYoB2FGp",
        "colab": {
          "base_uri": "https://localhost:8080/",
          "height": 265
        },
        "outputId": "fd077b0e-d213-4b0d-fe6c-dff9e3a4da73"
      },
      "source": [
        "plt.scatter(three_link_data['x'], three_link_data['y'])\n",
        "plt.show()"
      ],
      "execution_count": 8,
      "outputs": [
        {
          "output_type": "display_data",
          "data": {
            "image/png": "[encoded data removed]",
            "text/plain": [
              "<Figure size 432x288 with 1 Axes>"
            ]
          },
          "metadata": {
            "tags": [],
            "needs_background": "light"
          }
        }
      ]
    },
    {
      "cell_type": "code",
      "metadata": {
        "id": "Wprq1t_b2eU4"
      },
      "source": [
        "# Splitting training and testing dataset\n",
        "\n",
        "X = three_link_data[['x', 'y', 'phi']]\n",
        "y = three_link_data[['theta1', 'theta2', 'theta3']]\n",
        "train_X, test_X, train_y, test_y = train_test_split(X, y, test_size=0.1)\n"
      ],
      "execution_count": 10,
      "outputs": []
    },
    {
      "cell_type": "code",
      "metadata": {
        "id": "j8HwkNcH8aPF",
        "colab": {
          "base_uri": "https://localhost:8080/"
        },
        "outputId": "21ef2c3a-eff1-4665-af07-e047c24b7aed"
      },
      "source": [
        "# Defining model\n",
        "\n",
        "model = models.Sequential()\n",
        "model.add(layers.Dense(units=3, input_dim=3, kernel_initializer='uniform'))\n",
        "model.add(layers.Dense(units=100, kernel_initializer='uniform', activation='relu'))\n",
        "model.add(layers.Dense(units=100, kernel_initializer='uniform', activation='relu'))\n",
        "model.add(layers.Dense(units=100, kernel_initializer='uniform', activation='relu'))\n",
        "model.add(layers.Dense(units=3, kernel_initializer = 'uniform', activation='linear'))\n",
        "\n",
        "model.summary()\n"
      ],
      "execution_count": 13,
      "outputs": [
        {
          "output_type": "stream",
          "text": [
            "Model: \"sequential_1\"\n",
            "_________________________________________________________________\n",
            "Layer (type)                 Output Shape              Param #   \n",
            "=================================================================\n",
            "dense_5 (Dense)              (None, 3)                 12        \n",
            "_________________________________________________________________\n",
            "dense_6 (Dense)              (None, 100)               400       \n",
            "_________________________________________________________________\n",
            "dense_7 (Dense)              (None, 100)               10100     \n",
            "_________________________________________________________________\n",
            "dense_8 (Dense)              (None, 100)               10100     \n",
            "_________________________________________________________________\n",
            "dense_9 (Dense)              (None, 3)                 303       \n",
            "=================================================================\n",
            "Total params: 20,915\n",
            "Trainable params: 20,915\n",
            "Non-trainable params: 0\n",
            "_________________________________________________________________\n"
          ],
          "name": "stdout"
        }
      ]
    },
    {
      "cell_type": "code",
      "metadata": {
        "id": "DjzaJQfQHiNc"
      },
      "source": [
        "model.compile(optimizer='adam', loss='mean_squared_error', metrics=['accuracy'])"
      ],
      "execution_count": 15,
      "outputs": []
    },
    {
      "cell_type": "code",
      "metadata": {
        "id": "KI0kwsBMvm9t",
        "outputId": "0b118802-2985-4972-adca-a56ca15d28dc",
        "colab": {
          "base_uri": "https://localhost:8080/"
        }
      },
      "source": [
        "history = model.fit(train_X, train_y, epochs=30, validation_split=0.1, shuffle=True)"
      ],
      "execution_count": 16,
      "outputs": [
        {
          "output_type": "stream",
          "text": [
            "Train on 80999 samples, validate on 9000 samples\n",
            "Epoch 1/30\n",
            "80352/80999 [============================>.] - ETA: 0s - loss: 0.1764 - acc: 0.9365"
          ],
          "name": "stdout"
        },
        {
          "output_type": "stream",
          "text": [
            "/usr/local/lib/python3.7/dist-packages/tensorflow/python/keras/engine/training.py:2325: UserWarning: `Model.state_updates` will be removed in a future version. This property should not be used in TensorFlow 2.0, as `updates` are applied automatically.\n",
            "  warnings.warn('`Model.state_updates` will be removed in a future version. '\n"
          ],
          "name": "stderr"
        },
        {
          "output_type": "stream",
          "text": [
            "80999/80999 [==============================] - 5s 59us/sample - loss: 0.1753 - acc: 0.9368 - val_loss: 0.0425 - val_acc: 0.9584\n",
            "Epoch 2/30\n",
            "80999/80999 [==============================] - 5s 58us/sample - loss: 0.0262 - acc: 0.9712 - val_loss: 0.0324 - val_acc: 0.9653\n",
            "Epoch 3/30\n",
            "80999/80999 [==============================] - 4s 55us/sample - loss: 0.0210 - acc: 0.9748 - val_loss: 0.0265 - val_acc: 0.9799\n",
            "Epoch 4/30\n",
            "80999/80999 [==============================] - 5s 57us/sample - loss: 0.0192 - acc: 0.9773 - val_loss: 0.0170 - val_acc: 0.9822\n",
            "Epoch 5/30\n",
            "80999/80999 [==============================] - 4s 55us/sample - loss: 0.0180 - acc: 0.9787 - val_loss: 0.0188 - val_acc: 0.9770\n",
            "Epoch 6/30\n",
            "80999/80999 [==============================] - 5s 58us/sample - loss: 0.0171 - acc: 0.9790 - val_loss: 0.0180 - val_acc: 0.9808\n",
            "Epoch 7/30\n",
            "80999/80999 [==============================] - 5s 57us/sample - loss: 0.0166 - acc: 0.9796 - val_loss: 0.0239 - val_acc: 0.9793\n",
            "Epoch 8/30\n",
            "80999/80999 [==============================] - 5s 57us/sample - loss: 0.0161 - acc: 0.9807 - val_loss: 0.0114 - val_acc: 0.9861\n",
            "Epoch 9/30\n",
            "80999/80999 [==============================] - 5s 60us/sample - loss: 0.0152 - acc: 0.9820 - val_loss: 0.0207 - val_acc: 0.9720\n",
            "Epoch 10/30\n",
            "80999/80999 [==============================] - 5s 59us/sample - loss: 0.0141 - acc: 0.9822 - val_loss: 0.0118 - val_acc: 0.9850\n",
            "Epoch 11/30\n",
            "80999/80999 [==============================] - 5s 56us/sample - loss: 0.0144 - acc: 0.9816 - val_loss: 0.0094 - val_acc: 0.9844\n",
            "Epoch 12/30\n",
            "80999/80999 [==============================] - 5s 56us/sample - loss: 0.0142 - acc: 0.9825 - val_loss: 0.0150 - val_acc: 0.9851\n",
            "Epoch 13/30\n",
            "80999/80999 [==============================] - 5s 57us/sample - loss: 0.0132 - acc: 0.9836 - val_loss: 0.0216 - val_acc: 0.9777\n",
            "Epoch 14/30\n",
            "80999/80999 [==============================] - 5s 57us/sample - loss: 0.0139 - acc: 0.9824 - val_loss: 0.0114 - val_acc: 0.9844\n",
            "Epoch 15/30\n",
            "80999/80999 [==============================] - 4s 55us/sample - loss: 0.0135 - acc: 0.9828 - val_loss: 0.0112 - val_acc: 0.9861\n",
            "Epoch 16/30\n",
            "80999/80999 [==============================] - 5s 56us/sample - loss: 0.0128 - acc: 0.9837 - val_loss: 0.0084 - val_acc: 0.9876\n",
            "Epoch 17/30\n",
            "80999/80999 [==============================] - 5s 58us/sample - loss: 0.0137 - acc: 0.9828 - val_loss: 0.0170 - val_acc: 0.9847\n",
            "Epoch 18/30\n",
            "80999/80999 [==============================] - 5s 56us/sample - loss: 0.0125 - acc: 0.9835 - val_loss: 0.0133 - val_acc: 0.9874\n",
            "Epoch 19/30\n",
            "80999/80999 [==============================] - 5s 56us/sample - loss: 0.0125 - acc: 0.9844 - val_loss: 0.0073 - val_acc: 0.9898\n",
            "Epoch 20/30\n",
            "80999/80999 [==============================] - 4s 55us/sample - loss: 0.0124 - acc: 0.9850 - val_loss: 0.0133 - val_acc: 0.9862\n",
            "Epoch 21/30\n",
            "80999/80999 [==============================] - 5s 57us/sample - loss: 0.0119 - acc: 0.9845 - val_loss: 0.0169 - val_acc: 0.9786\n",
            "Epoch 22/30\n",
            "80999/80999 [==============================] - 5s 57us/sample - loss: 0.0117 - acc: 0.9844 - val_loss: 0.0105 - val_acc: 0.9888\n",
            "Epoch 23/30\n",
            "80999/80999 [==============================] - 5s 57us/sample - loss: 0.0118 - acc: 0.9842 - val_loss: 0.0194 - val_acc: 0.9861\n",
            "Epoch 24/30\n",
            "80999/80999 [==============================] - 5s 57us/sample - loss: 0.0114 - acc: 0.9850 - val_loss: 0.0299 - val_acc: 0.9764\n",
            "Epoch 25/30\n",
            "80999/80999 [==============================] - 4s 55us/sample - loss: 0.0121 - acc: 0.9847 - val_loss: 0.0118 - val_acc: 0.9801\n",
            "Epoch 26/30\n",
            "80999/80999 [==============================] - 5s 58us/sample - loss: 0.0117 - acc: 0.9844 - val_loss: 0.0090 - val_acc: 0.9882\n",
            "Epoch 27/30\n",
            "80999/80999 [==============================] - 5s 56us/sample - loss: 0.0109 - acc: 0.9854 - val_loss: 0.0071 - val_acc: 0.9880\n",
            "Epoch 28/30\n",
            "80999/80999 [==============================] - 4s 55us/sample - loss: 0.0114 - acc: 0.9853 - val_loss: 0.0073 - val_acc: 0.9879\n",
            "Epoch 29/30\n",
            "80999/80999 [==============================] - 5s 56us/sample - loss: 0.0107 - acc: 0.9848 - val_loss: 0.0096 - val_acc: 0.9862\n",
            "Epoch 30/30\n",
            "80999/80999 [==============================] - 5s 56us/sample - loss: 0.0105 - acc: 0.9852 - val_loss: 0.0102 - val_acc: 0.9806\n"
          ],
          "name": "stdout"
        }
      ]
    },
    {
      "cell_type": "code",
      "metadata": {
        "id": "GkPulvjDLs2K",
        "colab": {
          "base_uri": "https://localhost:8080/"
        },
        "outputId": "bf8615b3-fabf-441d-ef9f-b363dc393e6f"
      },
      "source": [
        "## Performance of model for \"Line\"\n",
        "from sklearn.metrics import mean_squared_error\n",
        "\n",
        "data=pd.read_csv('one.csv')\n",
        "\n",
        "#root mean error\n",
        "X_true=data['xe']\n",
        "X_pred=data['t1']\n",
        "rmse_x=mean_squared_error(X_true,X_pred)\n",
        "\n",
        "Y_true=data['ye']\n",
        "Y_pred=data['t2']\n",
        "rmse_y=mean_squared_error(Y_true,Y_pred) \n",
        "\n",
        "print('\\nrmse in x = ', rmse_x) \n",
        "print('rmse in y = ', rmse_y)\n",
        "\n",
        "## adjusted rsquared test\n",
        "regressor_OLS = sm.OLS(endog = X_true, exog = X_pred).fit() \n",
        "print(regressor_OLS.rsquared_adj)\n",
        "regressor_OLS = sm.OLS(endog = Y_true, exog = Y_pred).fit() \n",
        "print(regressor_OLS.rsquared_adj)  "
      ],
      "execution_count": null,
      "outputs": [
        {
          "output_type": "stream",
          "text": [
            "\n",
            "rmse in x =  0.02557299999999997\n",
            "rmse in y =  0.06854981818181818\n",
            "0.9997725255491904\n",
            "0.9981627711860964\n"
          ],
          "name": "stdout"
        }
      ]
    },
    {
      "cell_type": "code",
      "metadata": {
        "id": "V5HWxVURlXV1",
        "colab": {
          "base_uri": "https://localhost:8080/",
          "height": 287
        },
        "outputId": "1f2ce5b0-ac44-4f36-fcdd-c703276a4a4b"
      },
      "source": [
        "## trying to plot \"Circle\"\n",
        "def circleFile():\n",
        "    with open('circle.csv', 'w') as csvFile:\n",
        "        row = ['q1','q2','q3','xe','ye','thetae','t1','t2','t3']\n",
        "        csv.writer(csvFile).writerow(row)\n",
        "        Xc = 10\n",
        "        Yc = 10\n",
        "        r = 5\n",
        "        data_points =100\n",
        "        points = np.linspace(0,360,num =data_points)\n",
        "        for p in points:\n",
        "            i=Xc + r*m.cos(np.radians(p))\n",
        "            j=Yc + r*m.sin(np.radians(p))\n",
        "            theta=m.degrees(m.atan(j/i))\n",
        "            new_x=np.array([[i, j, theta]])\n",
        "            new_y=classifier.predict(new_x)\n",
        "            q1=float(new_y[0][0])\n",
        "            q2=float(new_y[0][1])\n",
        "            q3=float(new_y[0][2])\n",
        "\n",
        "            t3=round(m.degrees(q1)+m.degrees(q2)+m.degrees(q3),2)\n",
        "            t1= round(l1*m.cos(q1)+ l2*m.cos(q1+q2)+ l3*m.cos(q1+q2+q3),2)\n",
        "            t2= round(l1*m.sin(q1)+ l2*m.sin(q1+q2)+ l3*m.sin(q1+q2+q3),2)\n",
        "            \n",
        "            row = [q1,q2,q3,i,j,theta,t1,t2,t3]\n",
        "            #plt.xlim([0,20])\n",
        "            #plt.ylim([0,20])\n",
        "            plt.plot(i,j,'go')\n",
        "            csv.writer(csvFile).writerow(row)\n",
        "                \n",
        "    csvFile.close()\n",
        "    \n",
        "circleFile()\n",
        "\n",
        "def plot_point(point, angle, length):\n",
        "    x, y = point\n",
        "    endy = y + length * m.sin(angle)\n",
        "    endx = x + length * m.cos(angle)\n",
        "    #plt.xlim([0,6])\n",
        "    #plt.ylim([0,6])\n",
        "    #plt.plot([x, endx], [y, endy])\n",
        "    return endx,endy\n",
        "\n",
        "filename = 'circle.csv'\n",
        "data = np.loadtxt(filename, delimiter=\",\", skiprows=1)\n",
        "\n",
        "\n",
        "ang1 = [row[0] for row in data]\n",
        "ang2 = [row[1] for row in data]\n",
        "ang3 = [row[2] for row in data]\n",
        "\n",
        "point = [0,0]\n",
        "c = 1\n",
        "images = []\n",
        "for i in range(len(data)):\n",
        "    #fileName = 'Figure/circle' + str(c) + '.png'\n",
        "    point = plot_point([0,0],ang1[i],l1)\n",
        "    point = plot_point(point,ang1[i]+ang2[i],l2)\n",
        "    point=plot_point(point,ang1[i]+ang2[i]+ang3[i],l3)\n",
        "    plt.xlim([0,20])\n",
        "    plt.ylim([0,20])\n",
        "    plt.plot(point[0],point[1],'bo')\n",
        "    #plot_point(point,ang1[i]+ang2[i]+ang3[i],l3)\n",
        "    #plt.savefig(fileName)\n",
        "    #images.append(img.imread(fileName))\n",
        "    #c = c+1\n",
        "    \n",
        "'''img.mimsave('Figure/animatecircle.gif',images) \n",
        "import glob, os\n",
        "for f in glob.glob(\"Figure/circle*.png\"):\n",
        "    os.remove(f)'''"
      ],
      "execution_count": null,
      "outputs": [
        {
          "output_type": "execute_result",
          "data": {
            "application/vnd.google.colaboratory.intrinsic+json": {
              "type": "string"
            },
            "text/plain": [
              "'img.mimsave(\\'Figure/animatecircle.gif\\',images) \\nimport glob, os\\nfor f in glob.glob(\"Figure/circle*.png\"):\\n    os.remove(f)'"
            ]
          },
          "metadata": {
            "tags": []
          },
          "execution_count": 9
        },
        {
          "output_type": "display_data",
          "data": {
            "image/png": "[encoded data removed]",
            "text/plain": [
              "<Figure size 432x288 with 1 Axes>"
            ]
          },
          "metadata": {
            "tags": [],
            "needs_background": "light"
          }
        }
      ]
    },
    {
      "cell_type": "code",
      "metadata": {
        "id": "lUJRv3K7lzuY",
        "colab": {
          "base_uri": "https://localhost:8080/"
        },
        "outputId": "27d792b7-9f92-44b2-9918-05fec1a04795"
      },
      "source": [
        "## Performance of model for \"Circle\"\n",
        "from sklearn.metrics import mean_squared_error\n",
        "\n",
        "data=pd.read_csv('circle.csv')\n",
        "\n",
        "#rmse\n",
        "X_true=data['xe']\n",
        "X_pred=data['t1']\n",
        "rmse_x=mean_squared_error(X_true,X_pred)\n",
        "\n",
        "Y_true=data['ye']\n",
        "Y_pred=data['t2']\n",
        "rmse_y=mean_squared_error(Y_true,Y_pred) \n",
        "\n",
        "print('\\nrmse in x = ', rmse_x) \n",
        "print('rmse in y = ', rmse_y)\n",
        "\n",
        "## adjusted rsquared test\n",
        "regressor_OLS = sm.OLS(endog = X_true, exog = X_pred).fit() \n",
        "print(regressor_OLS.rsquared_adj)\n",
        "regressor_OLS = sm.OLS(endog = Y_true, exog = Y_pred).fit() \n",
        "print(regressor_OLS.rsquared_adj) "
      ],
      "execution_count": null,
      "outputs": [
        {
          "output_type": "stream",
          "text": [
            "\n",
            "rmse in x =  0.34296633776712054\n",
            "rmse in y =  0.36275527684891223\n",
            "0.9972587538469212\n",
            "0.9971471382908279\n"
          ],
          "name": "stdout"
        }
      ]
    },
    {
      "cell_type": "code",
      "metadata": {
        "id": "tNrQr6ItqTOC",
        "colab": {
          "base_uri": "https://localhost:8080/",
          "height": 356
        },
        "outputId": "d65800dc-d05a-4d11-e173-52f1e2d9a455"
      },
      "source": [
        "## trying to plot \"HELLO\"   \n",
        "\n",
        "def helloFile():\n",
        "  with open('hello.csv', 'w') as csvFile:\n",
        "        row = ['q1','q2','q3','xe','ye','thetae','t1','t2','t3']\n",
        "        csv.writer(csvFile).writerow(row)\n",
        "\n",
        "        # for H\n",
        "        arr=np.linspace(7,10,100)\n",
        "        for j in arr:\n",
        "            i= 7\n",
        "            theta=m.degrees(m.atan(j/i))\n",
        "            new_x=np.array([[i, j, theta]])\n",
        "            new_y=classifier.predict(new_x)\n",
        "            q1=float(new_y[0][0])\n",
        "            q2=float(new_y[0][1])\n",
        "            q3=float(new_y[0][2])\n",
        "            \n",
        "            t3=round(m.degrees(q1)+m.degrees(q2)+m.degrees(q3),2)\n",
        "            t1= round(l1*m.cos(q1)+ l2*m.cos(q1+q2)+ l3*m.cos(q1+q2+q3),2)\n",
        "            t2= round(l1*m.sin(q1)+ l2*m.sin(q1+q2)+ l3*m.sin(q1+q2+q3),2)\n",
        "            row = [q1,q2,q3,i,j,theta,t1,t2,t3]\n",
        "            plt.plot(i,j,'go')\n",
        "            csv.writer(csvFile).writerow(row)\n",
        "\n",
        "        arr=np.linspace(7,9,100)\n",
        "        for i in arr:\n",
        "            j=8\n",
        "            theta=m.degrees(m.atan(j/i))\n",
        "            new_x=np.array([[i, j, theta]])\n",
        "            new_y=classifier.predict(new_x)\n",
        "            q1=float(new_y[0][0])\n",
        "            q2=float(new_y[0][1])\n",
        "            q3=float(new_y[0][2])\n",
        "            \n",
        "            t3=round(m.degrees(q1)+m.degrees(q2)+m.degrees(q3),2)\n",
        "            t1= round(l1*m.cos(q1)+ l2*m.cos(q1+q2)+ l3*m.cos(q1+q2+q3),2)\n",
        "            t2= round(l1*m.sin(q1)+ l2*m.sin(q1+q2)+ l3*m.sin(q1+q2+q3),2)\n",
        "            row = [q1,q2,q3,i,j,theta,t1,t2,t3]\n",
        "            plt.plot(i,j,'go')\n",
        "            csv.writer(csvFile).writerow(row)\n",
        "\n",
        "        arr=np.linspace(7,10,100)\n",
        "        for j in arr:\n",
        "            i= 9\n",
        "            theta=m.degrees(m.atan(j/i))\n",
        "            new_x=np.array([[i, j, theta]])\n",
        "            new_y=classifier.predict(new_x)\n",
        "            q1=float(new_y[0][0])\n",
        "            q2=float(new_y[0][1])\n",
        "            q3=float(new_y[0][2])\n",
        "\n",
        "            t3=round(m.degrees(q1)+m.degrees(q2)+m.degrees(q3),2)\n",
        "            t1= round(l1*m.cos(q1)+ l2*m.cos(q1+q2)+ l3*m.cos(q1+q2+q3),2)\n",
        "            t2= round(l1*m.sin(q1)+ l2*m.sin(q1+q2)+ l3*m.sin(q1+q2+q3),2)\n",
        "            row = [q1,q2,q3,i,j,theta,t1,t2,t3]\n",
        "            plt.plot(i,j,'go')\n",
        "            csv.writer(csvFile).writerow(row)\n",
        "\n",
        "        # for E\n",
        "        arr=np.linspace(4,7,100)\n",
        "        for j in arr:\n",
        "            i= 10\n",
        "            theta=m.degrees(m.atan(j/i))\n",
        "            new_x=np.array([[i, j, theta]])\n",
        "            new_y=classifier.predict(new_x)\n",
        "            q1=float(new_y[0][0])\n",
        "            q2=float(new_y[0][1])\n",
        "            q3=float(new_y[0][2])\n",
        "            \n",
        "            t3=round(m.degrees(q1)+m.degrees(q2)+m.degrees(q3),2)\n",
        "            t1= round(l1*m.cos(q1)+ l2*m.cos(q1+q2)+ l3*m.cos(q1+q2+q3),2)\n",
        "            t2= round(l1*m.sin(q1)+ l2*m.sin(q1+q2)+ l3*m.sin(q1+q2+q3),2)\n",
        "            row = [q1,q2,q3,i,j,theta,t1,t2,t3]\n",
        "            plt.plot(i,j,'go')\n",
        "            csv.writer(csvFile).writerow(row)\n",
        "        \n",
        "        arr=np.linspace(10,12,100)\n",
        "        for i in arr:\n",
        "            j=7\n",
        "            theta=m.degrees(m.atan(j/i))\n",
        "            new_x=np.array([[i, j, theta]])\n",
        "            new_y=classifier.predict(new_x)\n",
        "            q1=float(new_y[0][0])\n",
        "            q2=float(new_y[0][1])\n",
        "            q3=float(new_y[0][2])\n",
        "            \n",
        "            t3=round(m.degrees(q1)+m.degrees(q2)+m.degrees(q3),2)\n",
        "            t1= round(l1*m.cos(q1)+ l2*m.cos(q1+q2)+ l3*m.cos(q1+q2+q3),2)\n",
        "            t2= round(l1*m.sin(q1)+ l2*m.sin(q1+q2)+ l3*m.sin(q1+q2+q3),2)\n",
        "            row = [q1,q2,q3,i,j,theta,t1,t2,t3]\n",
        "            plt.plot(i,j,'go')\n",
        "            csv.writer(csvFile).writerow(row)\n",
        "\n",
        "        arr=np.linspace(10,11,100)\n",
        "        for i in arr:\n",
        "            j=5\n",
        "            theta=m.degrees(m.atan(j/i))\n",
        "            new_x=np.array([[i, j, theta]])\n",
        "            new_y=classifier.predict(new_x)\n",
        "            q1=float(new_y[0][0])\n",
        "            q2=float(new_y[0][1])\n",
        "            q3=float(new_y[0][2])\n",
        "\n",
        "            t3=round(m.degrees(q1)+m.degrees(q2)+m.degrees(q3),2)\n",
        "            t1= round(l1*m.cos(q1)+ l2*m.cos(q1+q2)+ l3*m.cos(q1+q2+q3),2)\n",
        "            t2= round(l1*m.sin(q1)+ l2*m.sin(q1+q2)+ l3*m.sin(q1+q2+q3),2)\n",
        "            row = [q1,q2,q3,i,j,theta,t1,t2,t3]\n",
        "            plt.plot(i,j,'go')\n",
        "            csv.writer(csvFile).writerow(row)\n",
        "\n",
        "        arr=np.linspace(10,12,100)\n",
        "        for i in arr:\n",
        "            j=4\n",
        "            theta=m.degrees(m.atan(j/i))\n",
        "            new_x=np.array([[i, j, theta]])\n",
        "            new_y=classifier.predict(new_x)\n",
        "            q1=float(new_y[0][0])\n",
        "            q2=float(new_y[0][1])\n",
        "            q3=float(new_y[0][2])\n",
        "\n",
        "            t3=round(m.degrees(q1)+m.degrees(q2)+m.degrees(q3),2)\n",
        "            t1= round(l1*m.cos(q1)+ l2*m.cos(q1+q2)+ l3*m.cos(q1+q2+q3),2)\n",
        "            t2= round(l1*m.sin(q1)+ l2*m.sin(q1+q2)+ l3*m.sin(q1+q2+q3),2)\n",
        "            row = [q1,q2,q3,i,j,theta,t1,t2,t3]\n",
        "            plt.plot(i,j,'go')\n",
        "            csv.writer(csvFile).writerow(row)\n",
        "\n",
        "        # for L\n",
        "        arr=np.linspace(4,7,100)\n",
        "        for j in arr:\n",
        "            i= 13\n",
        "            theta=m.degrees(m.atan(j/i))\n",
        "            new_x=np.array([[i, j, theta]])\n",
        "            new_y=classifier.predict(new_x)\n",
        "            q1=float(new_y[0][0])\n",
        "            q2=float(new_y[0][1])\n",
        "            q3=float(new_y[0][2])\n",
        "\n",
        "            t3=round(m.degrees(q1)+m.degrees(q2)+m.degrees(q3),2)\n",
        "            t1= round(l1*m.cos(q1)+ l2*m.cos(q1+q2)+ l3*m.cos(q1+q2+q3),2)\n",
        "            t2= round(l1*m.sin(q1)+ l2*m.sin(q1+q2)+ l3*m.sin(q1+q2+q3),2)\n",
        "\n",
        "            row = [q1,q2,q3,i,j,theta,t1,t2,t3]\n",
        "            plt.plot(i,j,'go')\n",
        "            csv.writer(csvFile).writerow(row)\n",
        "\n",
        "        arr=np.linspace(13,14,100)\n",
        "        for i in arr:\n",
        "            j=4\n",
        "            theta=m.degrees(m.atan(j/i))\n",
        "            new_x=np.array([[i, j, theta]])\n",
        "            new_y=classifier.predict(new_x)\n",
        "            q1=float(new_y[0][0])\n",
        "            q2=float(new_y[0][1])\n",
        "            q3=float(new_y[0][2])\n",
        "\n",
        "            t3=round(m.degrees(q1)+m.degrees(q2)+m.degrees(q3),2)\n",
        "            t1= round(l1*m.cos(q1)+ l2*m.cos(q1+q2)+ l3*m.cos(q1+q2+q3),2)\n",
        "            t2= round(l1*m.sin(q1)+ l2*m.sin(q1+q2)+ l3*m.sin(q1+q2+q3),2)\n",
        "\n",
        "            row = [q1,q2,q3,i,j,theta,t1,t2,t3]\n",
        "            plt.plot(i,j,'go')\n",
        "            csv.writer(csvFile).writerow(row)\n",
        "\n",
        "        # for L\n",
        "        arr=np.linspace(4,7,100)\n",
        "        for j in arr:\n",
        "            i= 15\n",
        "            theta=m.degrees(m.atan(j/i))\n",
        "            new_x=np.array([[i, j, theta]])\n",
        "            new_y=classifier.predict(new_x)\n",
        "            q1=float(new_y[0][0])\n",
        "            q2=float(new_y[0][1])\n",
        "            q3=float(new_y[0][2])\n",
        "\n",
        "            t3=round(m.degrees(q1)+m.degrees(q2)+m.degrees(q3),2)\n",
        "            t1= round(l1*m.cos(q1)+ l2*m.cos(q1+q2)+ l3*m.cos(q1+q2+q3),2)\n",
        "            t2= round(l1*m.sin(q1)+ l2*m.sin(q1+q2)+ l3*m.sin(q1+q2+q3),2)\n",
        "\n",
        "            row = [q1,q2,q3,i,j,theta,t1,t2,t3]\n",
        "            plt.plot(i,j,'go')\n",
        "            csv.writer(csvFile).writerow(row)\n",
        "\n",
        "        arr=np.linspace(15,16,100)\n",
        "        for i in arr:\n",
        "            j=4\n",
        "            theta=m.degrees(m.atan(j/i))\n",
        "            new_x=np.array([[i, j, theta]])\n",
        "            new_y=classifier.predict(new_x)\n",
        "            q1=float(new_y[0][0])\n",
        "            q2=float(new_y[0][1])\n",
        "            q3=float(new_y[0][2])\n",
        "\n",
        "            t3=round(m.degrees(q1)+m.degrees(q2)+m.degrees(q3),2)\n",
        "            t1= round(l1*m.cos(q1)+ l2*m.cos(q1+q2)+ l3*m.cos(q1+q2+q3),2)\n",
        "            t2= round(l1*m.sin(q1)+ l2*m.sin(q1+q2)+ l3*m.sin(q1+q2+q3),2)\n",
        "\n",
        "            row = [q1,q2,q3,i,j,theta,t1,t2,t3]\n",
        "            plt.plot(i,j,'go')\n",
        "            csv.writer(csvFile).writerow(row)\n",
        "        \n",
        "        Xc = 18\n",
        "        Yc = 6\n",
        "        r = 1\n",
        "        data_points =100\n",
        "        points = np.linspace(0,360,num =data_points)\n",
        "        for p in points:\n",
        "            i=Xc + r*m.cos(np.radians(p))\n",
        "            j=Yc + r*m.sin(np.radians(p))\n",
        "            theta=m.degrees(m.atan(j/i))\n",
        "            new_x=np.array([[i, j, theta]])\n",
        "            new_y=classifier.predict(new_x)\n",
        "            q1=float(new_y[0][0])\n",
        "            q2=float(new_y[0][1])\n",
        "            q3=float(new_y[0][2])\n",
        "\n",
        "            t3=round(m.degrees(q1)+m.degrees(q2)+m.degrees(q3),2)\n",
        "            t1= round(l1*m.cos(q1)+ l2*m.cos(q1+q2)+ l3*m.cos(q1+q2+q3),2)\n",
        "            t2= round(l1*m.sin(q1)+ l2*m.sin(q1+q2)+ l3*m.sin(q1+q2+q3),2)\n",
        "\n",
        "            row = [q1,q2,q3,i,j,theta,t1,t2,t3]\n",
        "            plt.plot(i,j,'go')\n",
        "            csv.writer(csvFile).writerow(row)\n",
        "  csvFile.close()\n",
        "        \n",
        "    \n",
        "helloFile()\n",
        "\n",
        "def plot_point(point, angle, length):\n",
        "    x, y = point\n",
        "    endy = y + length * m.sin(angle)\n",
        "    endx = x + length * m.cos(angle)\n",
        "    #plt.xlim([0,6])\n",
        "    #plt.ylim([0,6])\n",
        "    #plt.plot([x, endx], [y, endy])\n",
        "    return endx,endy\n",
        "\n",
        "filename = 'hello.csv'\n",
        "data = np.loadtxt(filename, delimiter=\",\", skiprows=1)\n",
        "\n",
        "\n",
        "ang1 = [row[0] for row in data]\n",
        "ang2 = [row[1] for row in data]\n",
        "ang3 = [row[2] for row in data]\n",
        "\n",
        "point = [0,0]\n",
        "c = 1\n",
        "images = []\n",
        "import time\n",
        "\n",
        "time_start = time.clock()\n",
        "for i in range(len(data)):\n",
        "    #fileName = 'Figure/circle' + str(c) + '.png'\n",
        "    point = plot_point([0,0],ang1[i],l1)\n",
        "    point = plot_point(point,ang1[i]+ang2[i],l2)\n",
        "    point=plot_point(point,ang1[i]+ang2[i]+ang3[i],l3)\n",
        "    #plt.xlim([0,20])\n",
        "    #plt.ylim([0,20])\n",
        "    #plt.plot(point[0],point[1],'bo')\n",
        "    #plot_point(point,ang1[i]+ang2[i]+ang3[i],l3)\n",
        "    #plt.savefig(fileName)\n",
        "    #images.append(img.imread(fileName))\n",
        "    #c = c+1\n",
        "time_elapsed = (time.clock() - time_start)\n",
        "print(time_elapsed)   \n",
        "'''img.mimsave('Figure/animatecircle.gif',images) \n",
        "import glob, os\n",
        "for f in glob.glob(\"Figure/circle*.png\"):\n",
        "    os.remove(f)'''"
      ],
      "execution_count": null,
      "outputs": [
        {
          "output_type": "stream",
          "text": [
            "0.005099999999998772\n"
          ],
          "name": "stdout"
        },
        {
          "output_type": "stream",
          "text": [
            "/usr/local/lib/python3.7/dist-packages/ipykernel_launcher.py:252: DeprecationWarning: time.clock has been deprecated in Python 3.3 and will be removed from Python 3.8: use time.perf_counter or time.process_time instead\n",
            "/usr/local/lib/python3.7/dist-packages/ipykernel_launcher.py:265: DeprecationWarning: time.clock has been deprecated in Python 3.3 and will be removed from Python 3.8: use time.perf_counter or time.process_time instead\n"
          ],
          "name": "stderr"
        },
        {
          "output_type": "execute_result",
          "data": {
            "application/vnd.google.colaboratory.intrinsic+json": {
              "type": "string"
            },
            "text/plain": [
              "'img.mimsave(\\'Figure/animatecircle.gif\\',images) \\nimport glob, os\\nfor f in glob.glob(\"Figure/circle*.png\"):\\n    os.remove(f)'"
            ]
          },
          "metadata": {
            "tags": []
          },
          "execution_count": 11
        },
        {
          "output_type": "display_data",
          "data": {
            "image/png": "[encoded data removed]",
            "text/plain": [
              "<Figure size 432x288 with 1 Axes>"
            ]
          },
          "metadata": {
            "tags": [],
            "needs_background": "light"
          }
        }
      ]
    },
    {
      "cell_type": "code",
      "metadata": {
        "id": "puTWxL1-rFpt",
        "colab": {
          "base_uri": "https://localhost:8080/"
        },
        "outputId": "f605d311-fc9a-426b-f2b6-2066e6b4f33a"
      },
      "source": [
        "## Performance of Model for \"Hello\"\n",
        "from sklearn.metrics import mean_squared_error\n",
        "\n",
        "data=pd.read_csv('hello.csv')\n",
        "\n",
        "X_true=data['xe']\n",
        "X_pred=data['t1']\n",
        "rmse_x=mean_squared_error(X_true,X_pred)\n",
        "\n",
        "Y_true=data['ye']\n",
        "Y_pred=data['t2']\n",
        "rmse_y=mean_squared_error(Y_true,Y_pred) \n",
        "\n",
        "print('\\nrmse in x = ', rmse_x) \n",
        "print('rmse in y = ', rmse_y)\n",
        "\n",
        "## adjusted rsquared test\n",
        "regressor_OLS = sm.OLS(endog = X_true, exog = X_pred).fit() \n",
        "print(regressor_OLS.rsquared_adj)\n",
        "regressor_OLS = sm.OLS(endog = Y_true, exog = Y_pred).fit() \n",
        "print(regressor_OLS.rsquared_adj) "
      ],
      "execution_count": null,
      "outputs": [
        {
          "output_type": "stream",
          "text": [
            "\n",
            "rmse in x =  0.21105483950430864\n",
            "rmse in y =  0.19406496982788787\n",
            "0.9986421207920287\n",
            "0.9960659263262843\n"
          ],
          "name": "stdout"
        }
      ]
    },
    {
      "cell_type": "code",
      "metadata": {
        "id": "HuSyf2d-LKaP"
      },
      "source": [
        ""
      ],
      "execution_count": null,
      "outputs": []
    }
  ]
}